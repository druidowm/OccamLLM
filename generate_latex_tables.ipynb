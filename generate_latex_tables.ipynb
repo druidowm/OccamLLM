{
 "cells": [
  {
   "cell_type": "code",
   "execution_count": 9,
   "metadata": {},
   "outputs": [],
   "source": [
    "from generate_plots_and_tables import generate_latex_table"
   ]
  },
  {
   "cell_type": "code",
   "execution_count": 21,
   "metadata": {},
   "outputs": [
    {
     "name": "stdout",
     "output_type": "stream",
     "text": [
      "\n",
      "\\begin{table}[t]\n",
      "\\centering\n",
      "\\caption{Accuracy on arithmetic tasks. Higher is Better. Bold indicates best performance.}\n",
      "\\begin{tabular}{lcccccc}\n",
      "\\toprule\n",
      "& OccamLlama & Llama 2 & Llama 3 & GPT 3.5 & GPT 4o & GPT 4o \\\\ \n",
      "&  & 7B Chat & 8b Instruct & Turbo &  & Code \\\\ \n",
      "\\cmidrule(r){2-2}\n",
      "\\cmidrule(r){3-3}\n",
      "\\cmidrule(r){4-4}\n",
      "\\cmidrule(r){5-5}\n",
      "\\cmidrule(r){6-6}\n",
      "\\cmidrule(r){7-7}\n",
      "Addition & \\textbf{100.0\\scriptsize{\\textcolor{gray}{$\\pm$0.0}}} & 19.2\\scriptsize{\\textcolor{gray}{$\\pm$1.2}} & 44.9\\scriptsize{\\textcolor{gray}{$\\pm$1.6}} & 65.2\\scriptsize{\\textcolor{gray}{$\\pm$1.5}} & 95.7\\scriptsize{\\textcolor{gray}{$\\pm$0.6}} & \\textbf{100.0\\scriptsize{\\textcolor{gray}{$\\pm$0.0}}} \\\\ \n",
      "Subtraction & \\textbf{100.0\\scriptsize{\\textcolor{gray}{$\\pm$0.0}}} & 8.7\\scriptsize{\\textcolor{gray}{$\\pm$0.9}} & 34.4\\scriptsize{\\textcolor{gray}{$\\pm$1.5}} & 59.8\\scriptsize{\\textcolor{gray}{$\\pm$1.6}} & 85.6\\scriptsize{\\textcolor{gray}{$\\pm$1.1}} & 99.5\\scriptsize{\\textcolor{gray}{$\\pm$0.5}} \\\\ \n",
      "Multiplication & \\textbf{100.0\\scriptsize{\\textcolor{gray}{$\\pm$0.0}}} & 0.0\\scriptsize{\\textcolor{gray}{$\\pm$0.0}} & 0.0\\scriptsize{\\textcolor{gray}{$\\pm$0.0}} & 0.0\\scriptsize{\\textcolor{gray}{$\\pm$0.0}} & 0.0\\scriptsize{\\textcolor{gray}{$\\pm$0.0}} & 99.0\\scriptsize{\\textcolor{gray}{$\\pm$0.7}} \\\\ \n",
      "Division & \\textbf{100.0\\scriptsize{\\textcolor{gray}{$\\pm$0.0}}} & 2.8\\scriptsize{\\textcolor{gray}{$\\pm$0.5}} & 35.3\\scriptsize{\\textcolor{gray}{$\\pm$1.5}} & 10.7\\scriptsize{\\textcolor{gray}{$\\pm$1.0}} & 38.6\\scriptsize{\\textcolor{gray}{$\\pm$1.5}} & \\textbf{100.0\\scriptsize{\\textcolor{gray}{$\\pm$0.0}}} \\\\ \n",
      "Square Root & \\textbf{100.0\\scriptsize{\\textcolor{gray}{$\\pm$0.0}}} & 0.0\\scriptsize{\\textcolor{gray}{$\\pm$0.0}} & 0.0\\scriptsize{\\textcolor{gray}{$\\pm$0.0}} & 0.9\\scriptsize{\\textcolor{gray}{$\\pm$0.3}} & 18.6\\scriptsize{\\textcolor{gray}{$\\pm$1.2}} & \\textbf{100.0\\scriptsize{\\textcolor{gray}{$\\pm$0.0}}} \\\\ \n",
      "Exponential & \\textbf{100.0\\scriptsize{\\textcolor{gray}{$\\pm$0.0}}} & 0.3\\scriptsize{\\textcolor{gray}{$\\pm$0.2}} & 3.1\\scriptsize{\\textcolor{gray}{$\\pm$0.5}} & 12.5\\scriptsize{\\textcolor{gray}{$\\pm$1.0}} & 23.2\\scriptsize{\\textcolor{gray}{$\\pm$1.3}} & \\textbf{100.0\\scriptsize{\\textcolor{gray}{$\\pm$0.0}}} \\\\ \n",
      "Logarithm & \\textbf{100.0\\scriptsize{\\textcolor{gray}{$\\pm$0.0}}} & 0.1\\scriptsize{\\textcolor{gray}{$\\pm$0.1}} & 0.0\\scriptsize{\\textcolor{gray}{$\\pm$0.0}} & 17.1\\scriptsize{\\textcolor{gray}{$\\pm$1.2}} & 21.3\\scriptsize{\\textcolor{gray}{$\\pm$1.3}} & \\textbf{100.0\\scriptsize{\\textcolor{gray}{$\\pm$0.0}}} \\\\ \n",
      "Sine & \\textbf{100.0\\scriptsize{\\textcolor{gray}{$\\pm$0.0}}} & 7.6\\scriptsize{\\textcolor{gray}{$\\pm$0.8}} & 7.0\\scriptsize{\\textcolor{gray}{$\\pm$0.8}} & 13.4\\scriptsize{\\textcolor{gray}{$\\pm$1.1}} & 39.3\\scriptsize{\\textcolor{gray}{$\\pm$1.5}} & \\textbf{100.0\\scriptsize{\\textcolor{gray}{$\\pm$0.0}}} \\\\ \n",
      "Cosine & \\textbf{100.0\\scriptsize{\\textcolor{gray}{$\\pm$0.0}}} & 0.8\\scriptsize{\\textcolor{gray}{$\\pm$0.3}} & 1.5\\scriptsize{\\textcolor{gray}{$\\pm$0.4}} & 6.7\\scriptsize{\\textcolor{gray}{$\\pm$0.8}} & 32.8\\scriptsize{\\textcolor{gray}{$\\pm$1.5}} & \\textbf{100.0\\scriptsize{\\textcolor{gray}{$\\pm$0.0}}} \\\\ \n",
      "\\midrule\n",
      "\\textsc{Average} & \\textbf{100.0\\scriptsize{\\textcolor{gray}{$\\pm$0.0}}}& 4.4\\scriptsize{\\textcolor{gray}{$\\pm$0.6}} & 14.0\\scriptsize{\\textcolor{gray}{$\\pm$0.9}} & 20.7\\scriptsize{\\textcolor{gray}{$\\pm$1.1}} & 39.5\\scriptsize{\\textcolor{gray}{$\\pm$1.2}} & 99.8\\scriptsize{\\textcolor{gray}{$\\pm$0.3}} \\\\\n",
      "\n",
      "\\bottomrule\n",
      "\\end{tabular}\n",
      "\\label{tab:arithmetic_accuracy}\n",
      "\\end{table}\n"
     ]
    },
    {
     "data": {
      "text/plain": [
       "'\\n\\\\begin{table}[t]\\n\\\\centering\\n\\\\caption{Accuracy on arithmetic tasks. Higher is Better. Bold indicates best performance.}\\n\\\\begin{tabular}{lcccccc}\\n\\\\toprule\\n& OccamLlama & Llama 2 & Llama 3 & GPT 3.5 & GPT 4o & GPT 4o \\\\\\\\ \\n&  & 7B Chat & 8b Instruct & Turbo &  & Code \\\\\\\\ \\n\\\\cmidrule(r){2-2}\\n\\\\cmidrule(r){3-3}\\n\\\\cmidrule(r){4-4}\\n\\\\cmidrule(r){5-5}\\n\\\\cmidrule(r){6-6}\\n\\\\cmidrule(r){7-7}\\nAddition & \\\\textbf{100.0\\\\scriptsize{\\\\textcolor{gray}{$\\\\pm$0.0}}} & 19.2\\\\scriptsize{\\\\textcolor{gray}{$\\\\pm$1.2}} & 44.9\\\\scriptsize{\\\\textcolor{gray}{$\\\\pm$1.6}} & 65.2\\\\scriptsize{\\\\textcolor{gray}{$\\\\pm$1.5}} & 95.7\\\\scriptsize{\\\\textcolor{gray}{$\\\\pm$0.6}} & \\\\textbf{100.0\\\\scriptsize{\\\\textcolor{gray}{$\\\\pm$0.0}}} \\\\\\\\ \\nSubtraction & \\\\textbf{100.0\\\\scriptsize{\\\\textcolor{gray}{$\\\\pm$0.0}}} & 8.7\\\\scriptsize{\\\\textcolor{gray}{$\\\\pm$0.9}} & 34.4\\\\scriptsize{\\\\textcolor{gray}{$\\\\pm$1.5}} & 59.8\\\\scriptsize{\\\\textcolor{gray}{$\\\\pm$1.6}} & 85.6\\\\scriptsize{\\\\textcolor{gray}{$\\\\pm$1.1}} & 99.5\\\\scriptsize{\\\\textcolor{gray}{$\\\\pm$0.5}} \\\\\\\\ \\nMultiplication & \\\\textbf{100.0\\\\scriptsize{\\\\textcolor{gray}{$\\\\pm$0.0}}} & 0.0\\\\scriptsize{\\\\textcolor{gray}{$\\\\pm$0.0}} & 0.0\\\\scriptsize{\\\\textcolor{gray}{$\\\\pm$0.0}} & 0.0\\\\scriptsize{\\\\textcolor{gray}{$\\\\pm$0.0}} & 0.0\\\\scriptsize{\\\\textcolor{gray}{$\\\\pm$0.0}} & 99.0\\\\scriptsize{\\\\textcolor{gray}{$\\\\pm$0.7}} \\\\\\\\ \\nDivision & \\\\textbf{100.0\\\\scriptsize{\\\\textcolor{gray}{$\\\\pm$0.0}}} & 2.8\\\\scriptsize{\\\\textcolor{gray}{$\\\\pm$0.5}} & 35.3\\\\scriptsize{\\\\textcolor{gray}{$\\\\pm$1.5}} & 10.7\\\\scriptsize{\\\\textcolor{gray}{$\\\\pm$1.0}} & 38.6\\\\scriptsize{\\\\textcolor{gray}{$\\\\pm$1.5}} & \\\\textbf{100.0\\\\scriptsize{\\\\textcolor{gray}{$\\\\pm$0.0}}} \\\\\\\\ \\nSquare Root & \\\\textbf{100.0\\\\scriptsize{\\\\textcolor{gray}{$\\\\pm$0.0}}} & 0.0\\\\scriptsize{\\\\textcolor{gray}{$\\\\pm$0.0}} & 0.0\\\\scriptsize{\\\\textcolor{gray}{$\\\\pm$0.0}} & 0.9\\\\scriptsize{\\\\textcolor{gray}{$\\\\pm$0.3}} & 18.6\\\\scriptsize{\\\\textcolor{gray}{$\\\\pm$1.2}} & \\\\textbf{100.0\\\\scriptsize{\\\\textcolor{gray}{$\\\\pm$0.0}}} \\\\\\\\ \\nExponential & \\\\textbf{100.0\\\\scriptsize{\\\\textcolor{gray}{$\\\\pm$0.0}}} & 0.3\\\\scriptsize{\\\\textcolor{gray}{$\\\\pm$0.2}} & 3.1\\\\scriptsize{\\\\textcolor{gray}{$\\\\pm$0.5}} & 12.5\\\\scriptsize{\\\\textcolor{gray}{$\\\\pm$1.0}} & 23.2\\\\scriptsize{\\\\textcolor{gray}{$\\\\pm$1.3}} & \\\\textbf{100.0\\\\scriptsize{\\\\textcolor{gray}{$\\\\pm$0.0}}} \\\\\\\\ \\nLogarithm & \\\\textbf{100.0\\\\scriptsize{\\\\textcolor{gray}{$\\\\pm$0.0}}} & 0.1\\\\scriptsize{\\\\textcolor{gray}{$\\\\pm$0.1}} & 0.0\\\\scriptsize{\\\\textcolor{gray}{$\\\\pm$0.0}} & 17.1\\\\scriptsize{\\\\textcolor{gray}{$\\\\pm$1.2}} & 21.3\\\\scriptsize{\\\\textcolor{gray}{$\\\\pm$1.3}} & \\\\textbf{100.0\\\\scriptsize{\\\\textcolor{gray}{$\\\\pm$0.0}}} \\\\\\\\ \\nSine & \\\\textbf{100.0\\\\scriptsize{\\\\textcolor{gray}{$\\\\pm$0.0}}} & 7.6\\\\scriptsize{\\\\textcolor{gray}{$\\\\pm$0.8}} & 7.0\\\\scriptsize{\\\\textcolor{gray}{$\\\\pm$0.8}} & 13.4\\\\scriptsize{\\\\textcolor{gray}{$\\\\pm$1.1}} & 39.3\\\\scriptsize{\\\\textcolor{gray}{$\\\\pm$1.5}} & \\\\textbf{100.0\\\\scriptsize{\\\\textcolor{gray}{$\\\\pm$0.0}}} \\\\\\\\ \\nCosine & \\\\textbf{100.0\\\\scriptsize{\\\\textcolor{gray}{$\\\\pm$0.0}}} & 0.8\\\\scriptsize{\\\\textcolor{gray}{$\\\\pm$0.3}} & 1.5\\\\scriptsize{\\\\textcolor{gray}{$\\\\pm$0.4}} & 6.7\\\\scriptsize{\\\\textcolor{gray}{$\\\\pm$0.8}} & 32.8\\\\scriptsize{\\\\textcolor{gray}{$\\\\pm$1.5}} & \\\\textbf{100.0\\\\scriptsize{\\\\textcolor{gray}{$\\\\pm$0.0}}} \\\\\\\\ \\n\\\\midrule\\n\\\\textsc{Average} & \\\\textbf{100.0\\\\scriptsize{\\\\textcolor{gray}{$\\\\pm$0.0}}}& 4.4\\\\scriptsize{\\\\textcolor{gray}{$\\\\pm$0.6}} & 14.0\\\\scriptsize{\\\\textcolor{gray}{$\\\\pm$0.9}} & 20.7\\\\scriptsize{\\\\textcolor{gray}{$\\\\pm$1.1}} & 39.5\\\\scriptsize{\\\\textcolor{gray}{$\\\\pm$1.2}} & 99.8\\\\scriptsize{\\\\textcolor{gray}{$\\\\pm$0.3}} \\\\\\\\\\n\\n\\\\bottomrule\\n\\\\end{tabular}\\n\\\\label{tab:arithmetic_accuracy}\\n\\\\end{table}'"
      ]
     },
     "execution_count": 21,
     "metadata": {},
     "output_type": "execute_result"
    }
   ],
   "source": [
    "models = [\"occamllama/8B\", \"llama2/7b-chat\",\"llama3/8b-chat\",\"gpt/3.5-turbo\", \"gpt/4o\", \"gpt/4o-code\",]\n",
    "model_names = [\"OccamLlama\", \"Llama 2 7B\", \"Llama 3 8B\", \"GPT 3.5 Turbo\", \"GPT 4o\", \"GPT 4o Code\",]\n",
    "table_model_names = [(\"OccamLlama\",\"\"), (\"Llama 2\", \"7B Chat\"), (\"Llama 3\", \"8b Instruct\"), (\"GPT 3.5\",\"Turbo\"), (\"GPT 4o\",\"\"), (\"GPT 4o\", \"Code\")]\n",
    "model_dataset_appendages = [ \"\", \"\", \"\", \"\", \"\", \"\",]\n",
    "\n",
    "datasets = [\"addition7\", \"subtraction7\", \"product7\", \"division7\", \"sqrt7\", \"exp\", \"log\", \"sinL\", \"cosL\"]\n",
    "task_names = [\"Addition\", \"Subtraction\", \"Multiplication\", \"Division\", \"Square Root\", \"Exponential\", \"Logarithm\", \"Sine\", \"Cosine\"]\n",
    "\n",
    "table_caption = \"Accuracy on arithmetic tasks. Higher is Better. Bold indicates best performance.\"\n",
    "table_ref = \"arithmetic_accuracy\"\n",
    "y_label = \"Accuracy (%)\"\n",
    "saveto = \"figures/arithmetic.pdf\"\n",
    "\n",
    "fig_sizes = {\n",
    "    \"width\": 12,\n",
    "    \"height\": 5,\n",
    "    \"legend_fontsize\": 12,\n",
    "    \"xticklabel_fontsize\": 14,\n",
    "    \"ylabel_fontsize\": 16,\n",
    "    \"yticklabel_fontsize\": 12,\n",
    "    \"bar_width\": 0.12,\n",
    "    \"bbox_to_anchor\": (0.5, 1.16),\n",
    "}\n",
    "\n",
    "generate_latex_table(models, table_model_names, model_dataset_appendages, datasets, task_names, table_caption, table_ref, type = \"accuracy\")"
   ]
  },
  {
   "cell_type": "code",
   "execution_count": 22,
   "metadata": {},
   "outputs": [
    {
     "name": "stdout",
     "output_type": "stream",
     "text": [
      "\n",
      "\\begin{table}[t]\n",
      "\\centering\n",
      "\\caption{Accuracy on reasoning tasks. Higher is Better.}\n",
      "\\begin{tabular}{lccccccc}\n",
      "\\toprule\n",
      "& OccamLlama & OccamLlama & Llama 3 & Llama 3 & GPT 3.5 & GPT 4o & GPT 4o \\\\ \n",
      "& 8B & 70B & 8b Instruct & 70B Instruct & Turbo &  & Code \\\\ \n",
      "\\cmidrule(r){2-2}\n",
      "\\cmidrule(r){3-3}\n",
      "\\cmidrule(r){4-4}\n",
      "\\cmidrule(r){5-5}\n",
      "\\cmidrule(r){6-6}\n",
      "\\cmidrule(r){7-7}\n",
      "\\cmidrule(r){8-8}\n",
      "AddSub & 91.6\\scriptsize{\\textcolor{gray}{$\\pm$1.4}} & 96.5\\scriptsize{\\textcolor{gray}{$\\pm$0.9}} & 93.4\\scriptsize{\\textcolor{gray}{$\\pm$1.2}} & 97.2\\scriptsize{\\textcolor{gray}{$\\pm$0.8}} & 95.4\\scriptsize{\\textcolor{gray}{$\\pm$1.1}} & 97.0\\scriptsize{\\textcolor{gray}{$\\pm$0.9}} & \\textbf{97.5\\scriptsize{\\textcolor{gray}{$\\pm$1.1}}} \\\\ \n",
      "GSM8K & 73.5\\scriptsize{\\textcolor{gray}{$\\pm$1.2}} & 90.1\\scriptsize{\\textcolor{gray}{$\\pm$0.8}} & 79.8\\scriptsize{\\textcolor{gray}{$\\pm$1.1}} & 94.8\\scriptsize{\\textcolor{gray}{$\\pm$0.6}} & 84.8\\scriptsize{\\textcolor{gray}{$\\pm$1.0}} & \\textbf{96.1\\scriptsize{\\textcolor{gray}{$\\pm$0.5}}} & 94.0\\scriptsize{\\textcolor{gray}{$\\pm$1.7}} \\\\ \n",
      "MultiArith & 99.2\\scriptsize{\\textcolor{gray}{$\\pm$0.4}} & 98.5\\scriptsize{\\textcolor{gray}{$\\pm$0.5}} & \\textbf{99.8\\scriptsize{\\textcolor{gray}{$\\pm$0.2}}} & 98.2\\scriptsize{\\textcolor{gray}{$\\pm$0.5}} & 97.2\\scriptsize{\\textcolor{gray}{$\\pm$0.7}} & 99.7\\scriptsize{\\textcolor{gray}{$\\pm$0.2}} & 99.5\\scriptsize{\\textcolor{gray}{$\\pm$0.5}} \\\\ \n",
      "MultiArith Float & \\textbf{98.2\\scriptsize{\\textcolor{gray}{$\\pm$0.5}}} & 97.7\\scriptsize{\\textcolor{gray}{$\\pm$0.6}} & 57.3\\scriptsize{\\textcolor{gray}{$\\pm$2.0}} & 76.3\\scriptsize{\\textcolor{gray}{$\\pm$1.7}} & 77.3\\scriptsize{\\textcolor{gray}{$\\pm$1.7}} & 96.2\\scriptsize{\\textcolor{gray}{$\\pm$0.8}} & 89.5\\scriptsize{\\textcolor{gray}{$\\pm$2.2}} \\\\ \n",
      "MATH401 & 85.0\\scriptsize{\\textcolor{gray}{$\\pm$1.8}} & \\textbf{89.5\\scriptsize{\\textcolor{gray}{$\\pm$1.5}}} & 60.3\\scriptsize{\\textcolor{gray}{$\\pm$2.4}} & 71.6\\scriptsize{\\textcolor{gray}{$\\pm$2.3}} & 63.1\\scriptsize{\\textcolor{gray}{$\\pm$2.4}} & 76.6\\scriptsize{\\textcolor{gray}{$\\pm$2.1}} & 78.0\\scriptsize{\\textcolor{gray}{$\\pm$2.9}} \\\\ \n",
      "Single Eq & 92.9\\scriptsize{\\textcolor{gray}{$\\pm$1.1}} & 96.9\\scriptsize{\\textcolor{gray}{$\\pm$0.8}} & 96.3\\scriptsize{\\textcolor{gray}{$\\pm$0.8}} & 97.6\\scriptsize{\\textcolor{gray}{$\\pm$0.7}} & 97.8\\scriptsize{\\textcolor{gray}{$\\pm$0.6}} & 98.0\\scriptsize{\\textcolor{gray}{$\\pm$0.6}} & \\textbf{99.0\\scriptsize{\\textcolor{gray}{$\\pm$0.7}}} \\\\ \n",
      "SVAMP & 88.6\\scriptsize{\\textcolor{gray}{$\\pm$1.0}} & 93.2\\scriptsize{\\textcolor{gray}{$\\pm$0.8}} & 86.3\\scriptsize{\\textcolor{gray}{$\\pm$1.1}} & 94.5\\scriptsize{\\textcolor{gray}{$\\pm$0.7}} & 87.8\\scriptsize{\\textcolor{gray}{$\\pm$1.0}} & 96.2\\scriptsize{\\textcolor{gray}{$\\pm$0.6}} & \\textbf{96.5\\scriptsize{\\textcolor{gray}{$\\pm$1.3}}} \\\\ \n",
      "\\midrule\n",
      "\\textsc{Average} & 89.9\\scriptsize{\\textcolor{gray}{$\\pm$1.2}} & \\textbf{94.6\\scriptsize{\\textcolor{gray}{$\\pm$0.9}}}& 81.9\\scriptsize{\\textcolor{gray}{$\\pm$1.5}} & 90.0\\scriptsize{\\textcolor{gray}{$\\pm$1.2}} & 86.2\\scriptsize{\\textcolor{gray}{$\\pm$1.4}} & 94.2\\scriptsize{\\textcolor{gray}{$\\pm$1.0}} & 93.4\\scriptsize{\\textcolor{gray}{$\\pm$1.7}} \\\\\n",
      "\n",
      "\\bottomrule\n",
      "\\end{tabular}\n",
      "\\label{tab:reasoning_accuracy}\n",
      "\\end{table}\n"
     ]
    },
    {
     "data": {
      "text/plain": [
       "'\\n\\\\begin{table}[t]\\n\\\\centering\\n\\\\caption{Accuracy on reasoning tasks. Higher is Better.}\\n\\\\begin{tabular}{lccccccc}\\n\\\\toprule\\n& OccamLlama & OccamLlama & Llama 3 & Llama 3 & GPT 3.5 & GPT 4o & GPT 4o \\\\\\\\ \\n& 8B & 70B & 8b Instruct & 70B Instruct & Turbo &  & Code \\\\\\\\ \\n\\\\cmidrule(r){2-2}\\n\\\\cmidrule(r){3-3}\\n\\\\cmidrule(r){4-4}\\n\\\\cmidrule(r){5-5}\\n\\\\cmidrule(r){6-6}\\n\\\\cmidrule(r){7-7}\\n\\\\cmidrule(r){8-8}\\nAddSub & 91.6\\\\scriptsize{\\\\textcolor{gray}{$\\\\pm$1.4}} & 96.5\\\\scriptsize{\\\\textcolor{gray}{$\\\\pm$0.9}} & 93.4\\\\scriptsize{\\\\textcolor{gray}{$\\\\pm$1.2}} & 97.2\\\\scriptsize{\\\\textcolor{gray}{$\\\\pm$0.8}} & 95.4\\\\scriptsize{\\\\textcolor{gray}{$\\\\pm$1.1}} & 97.0\\\\scriptsize{\\\\textcolor{gray}{$\\\\pm$0.9}} & \\\\textbf{97.5\\\\scriptsize{\\\\textcolor{gray}{$\\\\pm$1.1}}} \\\\\\\\ \\nGSM8K & 73.5\\\\scriptsize{\\\\textcolor{gray}{$\\\\pm$1.2}} & 90.1\\\\scriptsize{\\\\textcolor{gray}{$\\\\pm$0.8}} & 79.8\\\\scriptsize{\\\\textcolor{gray}{$\\\\pm$1.1}} & 94.8\\\\scriptsize{\\\\textcolor{gray}{$\\\\pm$0.6}} & 84.8\\\\scriptsize{\\\\textcolor{gray}{$\\\\pm$1.0}} & \\\\textbf{96.1\\\\scriptsize{\\\\textcolor{gray}{$\\\\pm$0.5}}} & 94.0\\\\scriptsize{\\\\textcolor{gray}{$\\\\pm$1.7}} \\\\\\\\ \\nMultiArith & 99.2\\\\scriptsize{\\\\textcolor{gray}{$\\\\pm$0.4}} & 98.5\\\\scriptsize{\\\\textcolor{gray}{$\\\\pm$0.5}} & \\\\textbf{99.8\\\\scriptsize{\\\\textcolor{gray}{$\\\\pm$0.2}}} & 98.2\\\\scriptsize{\\\\textcolor{gray}{$\\\\pm$0.5}} & 97.2\\\\scriptsize{\\\\textcolor{gray}{$\\\\pm$0.7}} & 99.7\\\\scriptsize{\\\\textcolor{gray}{$\\\\pm$0.2}} & 99.5\\\\scriptsize{\\\\textcolor{gray}{$\\\\pm$0.5}} \\\\\\\\ \\nMultiArith Float & \\\\textbf{98.2\\\\scriptsize{\\\\textcolor{gray}{$\\\\pm$0.5}}} & 97.7\\\\scriptsize{\\\\textcolor{gray}{$\\\\pm$0.6}} & 57.3\\\\scriptsize{\\\\textcolor{gray}{$\\\\pm$2.0}} & 76.3\\\\scriptsize{\\\\textcolor{gray}{$\\\\pm$1.7}} & 77.3\\\\scriptsize{\\\\textcolor{gray}{$\\\\pm$1.7}} & 96.2\\\\scriptsize{\\\\textcolor{gray}{$\\\\pm$0.8}} & 89.5\\\\scriptsize{\\\\textcolor{gray}{$\\\\pm$2.2}} \\\\\\\\ \\nMATH401 & 85.0\\\\scriptsize{\\\\textcolor{gray}{$\\\\pm$1.8}} & \\\\textbf{89.5\\\\scriptsize{\\\\textcolor{gray}{$\\\\pm$1.5}}} & 60.3\\\\scriptsize{\\\\textcolor{gray}{$\\\\pm$2.4}} & 71.6\\\\scriptsize{\\\\textcolor{gray}{$\\\\pm$2.3}} & 63.1\\\\scriptsize{\\\\textcolor{gray}{$\\\\pm$2.4}} & 76.6\\\\scriptsize{\\\\textcolor{gray}{$\\\\pm$2.1}} & 78.0\\\\scriptsize{\\\\textcolor{gray}{$\\\\pm$2.9}} \\\\\\\\ \\nSingle Eq & 92.9\\\\scriptsize{\\\\textcolor{gray}{$\\\\pm$1.1}} & 96.9\\\\scriptsize{\\\\textcolor{gray}{$\\\\pm$0.8}} & 96.3\\\\scriptsize{\\\\textcolor{gray}{$\\\\pm$0.8}} & 97.6\\\\scriptsize{\\\\textcolor{gray}{$\\\\pm$0.7}} & 97.8\\\\scriptsize{\\\\textcolor{gray}{$\\\\pm$0.6}} & 98.0\\\\scriptsize{\\\\textcolor{gray}{$\\\\pm$0.6}} & \\\\textbf{99.0\\\\scriptsize{\\\\textcolor{gray}{$\\\\pm$0.7}}} \\\\\\\\ \\nSVAMP & 88.6\\\\scriptsize{\\\\textcolor{gray}{$\\\\pm$1.0}} & 93.2\\\\scriptsize{\\\\textcolor{gray}{$\\\\pm$0.8}} & 86.3\\\\scriptsize{\\\\textcolor{gray}{$\\\\pm$1.1}} & 94.5\\\\scriptsize{\\\\textcolor{gray}{$\\\\pm$0.7}} & 87.8\\\\scriptsize{\\\\textcolor{gray}{$\\\\pm$1.0}} & 96.2\\\\scriptsize{\\\\textcolor{gray}{$\\\\pm$0.6}} & \\\\textbf{96.5\\\\scriptsize{\\\\textcolor{gray}{$\\\\pm$1.3}}} \\\\\\\\ \\n\\\\midrule\\n\\\\textsc{Average} & 89.9\\\\scriptsize{\\\\textcolor{gray}{$\\\\pm$1.2}} & \\\\textbf{94.6\\\\scriptsize{\\\\textcolor{gray}{$\\\\pm$0.9}}}& 81.9\\\\scriptsize{\\\\textcolor{gray}{$\\\\pm$1.5}} & 90.0\\\\scriptsize{\\\\textcolor{gray}{$\\\\pm$1.2}} & 86.2\\\\scriptsize{\\\\textcolor{gray}{$\\\\pm$1.4}} & 94.2\\\\scriptsize{\\\\textcolor{gray}{$\\\\pm$1.0}} & 93.4\\\\scriptsize{\\\\textcolor{gray}{$\\\\pm$1.7}} \\\\\\\\\\n\\n\\\\bottomrule\\n\\\\end{tabular}\\n\\\\label{tab:reasoning_accuracy}\\n\\\\end{table}'"
      ]
     },
     "execution_count": 22,
     "metadata": {},
     "output_type": "execute_result"
    }
   ],
   "source": [
    "models = [\"occamllama/8B\", \"occamllama/70B\", \"llama3/8b-chat\", \"llama3_70B/Meta-Llama-3-70B-Instruct\",\"gpt/3.5-turbo\", \"gpt/4o\", \"gpt/4o-code\",]\n",
    "model_names = [\"OccamLlama 8B\", \"OccamLlama 70B\", \"Llama 3 8B\", \"Llama 3 70B\", \"GPT 3.5 Turbo\", \"GPT 4o\", \"GPT 4o +Code\",]\n",
    "model_dataset_appendages = [\"\", \"\", \"\", \"\", \"\", \"\", \"\"]\n",
    "table_model_names = [(\"OccamLlama\",\"8B\"), (\"OccamLlama\",\"70B\"), (\"Llama 3\", \"8b Instruct\"), (\"Llama 3\", \"70B Instruct\"), (\"GPT 3.5\",\"Turbo\"), (\"GPT 4o\",\"\"), (\"GPT 4o\", \"Code\")]\n",
    "\n",
    "datasets = [\"addsub\", \"gsm8k\", \"multiarith\", \"multiarith_float\", \"math401\", \"single_eq\", \"svamp\"]\n",
    "task_names = [\"AddSub\", \"GSM8K\", \"MultiArith\", \"MultiArith Float\", \"MATH401\", \"Single Eq\", \"SVAMP\"]\n",
    "\n",
    "table_caption = \"Accuracy on reasoning tasks. Higher is Better.\"\n",
    "table_ref = \"reasoning_accuracy\"\n",
    "y_label = \"Accuracy (%)\"\n",
    "saveto = \"figures/reasoning_70B.pdf\"\n",
    "\n",
    "fig_sizes = {\n",
    "    \"width\": 12,\n",
    "    \"height\": 5,\n",
    "    \"legend_fontsize\": 11,\n",
    "    \"xticklabel_fontsize\": 14,\n",
    "    \"ylabel_fontsize\": 16,\n",
    "    \"yticklabel_fontsize\": 12,\n",
    "    \"bar_width\": 0.11,\n",
    "    \"bbox_to_anchor\": (0.5, 1.18),\n",
    "}\n",
    "\n",
    "generate_latex_table(models, table_model_names, model_dataset_appendages, datasets, task_names, table_caption, table_ref, type = \"accuracy\")"
   ]
  },
  {
   "cell_type": "code",
   "execution_count": null,
   "metadata": {},
   "outputs": [],
   "source": []
  }
 ],
 "metadata": {
  "kernelspec": {
   "display_name": "torch_llm",
   "language": "python",
   "name": "python3"
  },
  "language_info": {
   "codemirror_mode": {
    "name": "ipython",
    "version": 3
   },
   "file_extension": ".py",
   "mimetype": "text/x-python",
   "name": "python",
   "nbconvert_exporter": "python",
   "pygments_lexer": "ipython3",
   "version": "3.10.0"
  }
 },
 "nbformat": 4,
 "nbformat_minor": 2
}
